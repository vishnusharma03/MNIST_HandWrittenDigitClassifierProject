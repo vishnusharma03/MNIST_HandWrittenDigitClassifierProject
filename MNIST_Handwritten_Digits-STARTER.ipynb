{
 "cells": [
  {
   "cell_type": "markdown",
   "metadata": {},
   "source": [
    "# Introduction\n",
    "\n",
    "In this project, you will build a neural network of your own design to evaluate the MNIST dataset.\n",
    "\n",
    "Some of the benchmark results on MNIST include can be found [on Yann LeCun's page](http://yann.lecun.com/exdb/mnist/) and include:\n",
    "\n",
    "88% [Lecun et al., 1998](http://yann.lecun.com/exdb/publis/pdf/lecun-98.pdf)\n",
    "95.3% [Lecun et al., 1998](http://yann.lecun.com/exdb/publis/pdf/lecun-98.pdf)\n",
    "99.65% [Ciresan et al., 2011](http://people.idsia.ch/~juergen/ijcai2011.pdf)\n",
    "\n",
    "MNIST is a great dataset for sanity checking your models, since the accuracy levels achieved by large convolutional neural networks and small linear models are both quite high. This makes it important to be familiar with the data.\n",
    "\n",
    "## Imports"
   ]
  },
  {
   "cell_type": "code",
   "execution_count": 1,
   "metadata": {},
   "outputs": [],
   "source": [
    "## This cell contains the essential imports you will need – DO NOT CHANGE THE CONTENTS! ##\n",
    "import torch\n",
    "import torch.nn as nn\n",
    "import torch.nn.functional as F\n",
    "import torch.optim as optim\n",
    "import torchvision\n",
    "import torchvision.transforms as transforms\n",
    "import matplotlib.pyplot as plt\n",
    "import numpy as np"
   ]
  },
  {
   "cell_type": "code",
   "execution_count": 2,
   "metadata": {},
   "outputs": [],
   "source": [
    "%matplotlib inline"
   ]
  },
  {
   "cell_type": "markdown",
   "metadata": {},
   "source": [
    "## Load the Dataset\n",
    "\n",
    "Specify your transforms as a list if you intend to .\n",
    "The transforms module is already loaded as `transforms`.\n",
    "\n",
    "MNIST is fortunately included in the torchvision module.\n",
    "Then, you can create your dataset using the `MNIST` object from `torchvision.datasets` ([the documentation is available here](https://pytorch.org/vision/stable/datasets.html#mnist)).\n",
    "Make sure to specify `download=True`! \n",
    "\n",
    "Once your dataset is created, you'll also need to define a `DataLoader` from the `torch.utils.data` module for both the train and the test set."
   ]
  },
  {
   "cell_type": "code",
   "execution_count": 3,
   "metadata": {},
   "outputs": [
    {
     "name": "stderr",
     "output_type": "stream",
     "text": [
      "/opt/conda/lib/python3.7/site-packages/torchvision/datasets/mnist.py:498: UserWarning: The given NumPy array is not writable, and PyTorch does not support non-writable tensors. This means writing to this tensor will result in undefined behavior. You may want to copy the array to protect its data or make it writable before converting it to a tensor. This type of warning will be suppressed for the rest of this program. (Triggered internally at  ../torch/csrc/utils/tensor_numpy.cpp:178.)\n",
      "  return torch.from_numpy(parsed.astype(m[2], copy=False)).view(*s)\n"
     ]
    }
   ],
   "source": [
    "# Define transforms\n",
    "transform = transforms.Compose([transforms.ToTensor(), transforms.Normalize((0.5,),(0.5,))])\n",
    "\n",
    "# Create training set and define training dataloader\n",
    "dataset = torchvision.datasets.MNIST(root='./', download=True, train=True, transform=transform)\n",
    "\n",
    "# Splitting the training dataset into validation set & training set\n",
    "training_set, validation_set = torch.utils.data.random_split(dataset, lengths=[45000, 15000])\n",
    "\n",
    "trainloader = torch.utils.data.DataLoader(training_set, batch_size=32, shuffle=True)\n",
    "\n",
    "# Defining validation dataloader\n",
    "valid_loader = torch.utils.data.DataLoader(validation_set, batch_size=32, shuffle=True)\n",
    "\n",
    "# Create test set and define test dataloader\n",
    "testing_set = torchvision.datasets.MNIST(root='./', download=True, train=False, transform=transform)\n",
    "testloader = torch.utils.data.DataLoader(testing_set, batch_size=32, shuffle=True)"
   ]
  },
  {
   "cell_type": "markdown",
   "metadata": {},
   "source": [
    "## Justify your preprocessing\n",
    "\n",
    "In your own words, why did you choose the transforms you chose? If you didn't use any preprocessing steps, why not?"
   ]
  },
  {
   "cell_type": "markdown",
   "metadata": {},
   "source": [
    "I applied preprocessing steps like converting to tensor as PyTorch library needs tensors to operate, & data normalization as it scales all the data to same scale that helps the model to not learn bias & avoid dominance by certain part of data, it also helps the model to converge the better.\n",
    "Later on I flattened the data because fully connected layers expect input data in the form of one dimensional vector."
   ]
  },
  {
   "cell_type": "markdown",
   "metadata": {},
   "source": [
    "## Explore the Dataset\n",
    "Using matplotlib, numpy, and torch, explore the dimensions of your data.\n",
    "\n",
    "You can view images using the `show5` function defined below – it takes a data loader as an argument.\n",
    "Remember that normalized images will look really weird to you! You may want to try changing your transforms to view images.\n",
    "Typically using no transforms other than `toTensor()` works well for viewing – but not as well for training your network.\n",
    "If `show5` doesn't work, go back and check your code for creating your data loaders and your training/test sets."
   ]
  },
  {
   "cell_type": "code",
   "execution_count": 4,
   "metadata": {},
   "outputs": [],
   "source": [
    "## This cell contains a function for showing 5 images from a dataloader – DO NOT CHANGE THE CONTENTS! ##\n",
    "def show5(img_loader):\n",
    "    dataiter = iter(img_loader)\n",
    "    \n",
    "    batch = next(dataiter)\n",
    "    labels = batch[1][0:5]\n",
    "    images = batch[0][0:5]\n",
    "    for i in range(5):\n",
    "        print(int(labels[i].detach()))\n",
    "    \n",
    "        image = images[i].numpy()\n",
    "        plt.imshow(image.T.squeeze().T)\n",
    "        plt.show()"
   ]
  },
  {
   "cell_type": "code",
   "execution_count": 5,
   "metadata": {},
   "outputs": [
    {
     "name": "stdout",
     "output_type": "stream",
     "text": [
      "8\n"
     ]
    },
    {
     "data": {
      "image/png": "[encoded data removed]",
      "text/plain": [
       "<Figure size 432x288 with 1 Axes>"
      ]
     },
     "metadata": {
      "needs_background": "light"
     },
     "output_type": "display_data"
    },
    {
     "name": "stdout",
     "output_type": "stream",
     "text": [
      "0\n"
     ]
    },
    {
     "data": {
      "image/png": "[encoded data removed]",
      "text/plain": [
       "<Figure size 432x288 with 1 Axes>"
      ]
     },
     "metadata": {
      "needs_background": "light"
     },
     "output_type": "display_data"
    },
    {
     "name": "stdout",
     "output_type": "stream",
     "text": [
      "2\n"
     ]
    },
    {
     "data": {
      "image/png": "[encoded data removed]",
      "text/plain": [
       "<Figure size 432x288 with 1 Axes>"
      ]
     },
     "metadata": {
      "needs_background": "light"
     },
     "output_type": "display_data"
    },
    {
     "name": "stdout",
     "output_type": "stream",
     "text": [
      "3\n"
     ]
    },
    {
     "data": {
      "image/png": "[encoded data removed]",
      "text/plain": [
       "<Figure size 432x288 with 1 Axes>"
      ]
     },
     "metadata": {
      "needs_background": "light"
     },
     "output_type": "display_data"
    },
    {
     "name": "stdout",
     "output_type": "stream",
     "text": [
      "1\n"
     ]
    },
    {
     "data": {
      "image/png": "[encoded data removed]",
      "text/plain": [
       "<Figure size 432x288 with 1 Axes>"
      ]
     },
     "metadata": {
      "needs_background": "light"
     },
     "output_type": "display_data"
    }
   ],
   "source": [
    "show5(trainloader)"
   ]
  },
  {
   "cell_type": "code",
   "execution_count": 6,
   "metadata": {
    "scrolled": true
   },
   "outputs": [
    {
     "name": "stdout",
     "output_type": "stream",
     "text": [
      "Images shape: (45000, 28, 28)\n",
      "Labels shape: 45000\n",
      "Index:  26030\n"
     ]
    },
    {
     "data": {
      "image/png": "[encoded data removed]",
      "text/plain": [
       "<Figure size 432x288 with 1 Axes>"
      ]
     },
     "metadata": {
      "needs_background": "light"
     },
     "output_type": "display_data"
    }
   ],
   "source": [
    "# Exploring training dataset\n",
    "images = [i[0] for i in training_set]\n",
    "labels = [i[1] for i in training_set]\n",
    "\n",
    "# Convert images to numpy array\n",
    "## torch.stack is used to convert the images to a tensor which was previously a list\n",
    "## & then reshaped it for necessary operations\n",
    "images_np = torch.stack(images).numpy()\n",
    "images_np = images_np.reshape(-1, 28, 28) \n",
    "\n",
    "print(\"Images shape:\", images_np.shape)\n",
    "print(\"Labels shape:\", len(labels))\n",
    "\n",
    "index = np.random.randint(0, len(training_set))\n",
    "plt.imshow(images_np[index], cmap='gray')\n",
    "plt.title(\"Label: \" + str(labels[index]))\n",
    "print('Index: ',index)\n",
    "plt.axis('off')\n",
    "plt.show()"
   ]
  },
  {
   "cell_type": "code",
   "execution_count": 7,
   "metadata": {},
   "outputs": [
    {
     "name": "stdout",
     "output_type": "stream",
     "text": [
      "Images shape: (15000, 28, 28)\n",
      "Labels shape: 15000\n",
      "Index:  8653\n"
     ]
    },
    {
     "data": {
      "image/png": "[encoded data removed]",
      "text/plain": [
       "<Figure size 432x288 with 1 Axes>"
      ]
     },
     "metadata": {
      "needs_background": "light"
     },
     "output_type": "display_data"
    }
   ],
   "source": [
    "# Exploring validation dataset\n",
    "images = [i[0] for i in validation_set]\n",
    "labels = [i[1] for i in validation_set]\n",
    "\n",
    "# Convert images to numpy array\n",
    "images_np = torch.stack(images).numpy()\n",
    "images_np = images_np.reshape(-1, 28, 28) \n",
    "\n",
    "print(\"Images shape:\", images_np.shape)\n",
    "print(\"Labels shape:\", len(labels))\n",
    "\n",
    "index = np.random.randint(0, len(validation_set))\n",
    "plt.imshow(images_np[index], cmap='gray')\n",
    "plt.title(\"Label: \" + str(labels[index]))\n",
    "print('Index: ',index)\n",
    "plt.axis('off')\n",
    "plt.show()"
   ]
  },
  {
   "cell_type": "code",
   "execution_count": 8,
   "metadata": {},
   "outputs": [
    {
     "name": "stdout",
     "output_type": "stream",
     "text": [
      "Images shape: (10000, 28, 28)\n",
      "Labels shape: torch.Size([10000])\n",
      "Index:  4317\n"
     ]
    },
    {
     "data": {
      "image/png": "[encoded data removed]",
      "text/plain": [
       "<Figure size 432x288 with 1 Axes>"
      ]
     },
     "metadata": {
      "needs_background": "light"
     },
     "output_type": "display_data"
    }
   ],
   "source": [
    "#Exploring testing dataset\n",
    "images = testing_set.data\n",
    "labels = testing_set.targets\n",
    "\n",
    "# Convert images to numpy array\n",
    "images_np = images.numpy()\n",
    "\n",
    "print(\"Images shape:\", images_np.shape)\n",
    "print(\"Labels shape:\", labels.shape)\n",
    "\n",
    "index = np.random.randint(0, len(testing_set))\n",
    "plt.imshow(images_np[index], cmap='gray')\n",
    "plt.title(\"Label: \" + str(labels[index].item()))\n",
    "print('Index: ',index)\n",
    "plt.axis('off')\n",
    "plt.show()"
   ]
  },
  {
   "cell_type": "markdown",
   "metadata": {},
   "source": [
    "## Build your Neural Network\n",
    "Using the layers in `torch.nn` (which has been imported as `nn`) and the `torch.nn.functional` module (imported as `F`), construct a neural network based on the parameters of the dataset.\n",
    "Use any architecture you like. \n",
    "\n",
    "*Note*: If you did not flatten your tensors in your transforms or as part of your preprocessing and you are using only `Linear` layers, make sure to use the `Flatten` layer in your network!"
   ]
  },
  {
   "cell_type": "code",
   "execution_count": 9,
   "metadata": {},
   "outputs": [],
   "source": [
    "#Building the neural network\n",
    "class Net(nn.Module):\n",
    "    def __init__(self, dropout_rate=0.5):\n",
    "        super().__init__()\n",
    "        self.dropout_rate = dropout_rate\n",
    "        self.h1 = nn.Linear(28*28,512)\n",
    "        self.h2 = nn.Linear(512, 256)\n",
    "        self.h3 = nn.Linear(256, 128)\n",
    "        self.h4 = nn.Linear(128, 10)\n",
    "        self.activation = F.relu\n",
    "        \n",
    "    def forward(self, x):\n",
    "        x = torch.flatten(x, start_dim=1)\n",
    "        x = self.activation(self.h1(x))\n",
    "        x = F.dropout(x, p=self.dropout_rate, training=self.training)\n",
    "        x = self.activation(self.h2(x))\n",
    "        x = F.dropout(x, p=self.dropout_rate, training=self.training)\n",
    "        x = self.activation(self.h3(x))\n",
    "        x = F.dropout(x, p=self.dropout_rate, training=self.training)\n",
    "        x = self.h4(x)\n",
    "        return x\n",
    "    \n",
    "net = Net()"
   ]
  },
  {
   "cell_type": "markdown",
   "metadata": {},
   "source": [
    "Specify a loss function and an optimizer, and instantiate the model.\n",
    "\n",
    "If you use a less common loss function, please note why you chose that loss function in a comment."
   ]
  },
  {
   "cell_type": "code",
   "execution_count": 10,
   "metadata": {},
   "outputs": [],
   "source": [
    "criterion = nn.CrossEntropyLoss()\n",
    "optimizer = optim.Adam(net.parameters(), lr=0.001)\n",
    "epochs = 10"
   ]
  },
  {
   "cell_type": "markdown",
   "metadata": {},
   "source": [
    "## Running your Neural Network\n",
    "Use whatever method you like to train your neural network, and ensure you record the average loss at each epoch. \n",
    "Don't forget to use `torch.device()` and the `.to()` method for both your model and your data if you are using GPU!\n",
    "\n",
    "If you want to print your loss **during** each epoch, you can use the `enumerate` function and print the loss after a set number of batches. 250 batches works well for most people!"
   ]
  },
  {
   "cell_type": "code",
   "execution_count": 11,
   "metadata": {},
   "outputs": [
    {
     "name": "stdout",
     "output_type": "stream",
     "text": [
      "Epochs:1/10\n",
      "Training Loss: 0.73, Training Accuracy : 0.77\n",
      "Validation Loss: 0.31, Validation Accuracy : 0.91\n",
      "Epochs:2/10\n",
      "Training Loss: 0.44, Training Accuracy : 0.87\n",
      "Validation Loss: 0.24, Validation Accuracy : 0.93\n",
      "Epochs:3/10\n",
      "Training Loss: 0.39, Training Accuracy : 0.89\n",
      "Validation Loss: 0.21, Validation Accuracy : 0.94\n",
      "Epochs:4/10\n",
      "Training Loss: 0.36, Training Accuracy : 0.90\n",
      "Validation Loss: 0.19, Validation Accuracy : 0.94\n",
      "Epochs:5/10\n",
      "Training Loss: 0.33, Training Accuracy : 0.91\n",
      "Validation Loss: 0.18, Validation Accuracy : 0.95\n",
      "Epochs:6/10\n",
      "Training Loss: 0.33, Training Accuracy : 0.91\n",
      "Validation Loss: 0.20, Validation Accuracy : 0.94\n",
      "Epochs:7/10\n",
      "Training Loss: 0.32, Training Accuracy : 0.91\n",
      "Validation Loss: 0.17, Validation Accuracy : 0.95\n",
      "Epochs:8/10\n",
      "Training Loss: 0.31, Training Accuracy : 0.91\n",
      "Validation Loss: 0.17, Validation Accuracy : 0.95\n",
      "Epochs:9/10\n",
      "Training Loss: 0.30, Training Accuracy : 0.92\n",
      "Validation Loss: 0.18, Validation Accuracy : 0.95\n",
      "Epochs:10/10\n",
      "Training Loss: 0.29, Training Accuracy : 0.92\n",
      "Validation Loss: 0.16, Validation Accuracy : 0.95\n"
     ]
    },
    {
     "data": {
      "image/png": "[encoded data removed]",
      "text/plain": [
       "<Figure size 432x288 with 1 Axes>"
      ]
     },
     "metadata": {
      "needs_background": "light"
     },
     "output_type": "display_data"
    }
   ],
   "source": [
    "def train_model(criterion=criterion, optimizer=optimizer, epochs=epochs, model=net):\n",
    "    device = 'cuda:0' if torch.cuda.is_available() else 'cpu'\n",
    "    train_loss = []\n",
    "    validation_loss = []\n",
    "\n",
    "    for e in range(epochs):\n",
    "        model.to(device)\n",
    "        model.train()\n",
    "\n",
    "        running_loss = 0\n",
    "        train_correct = 0\n",
    "        total_train_samples = 0\n",
    "        for index, batch in enumerate(trainloader):\n",
    "            inputs, labels = batch\n",
    "            inputs = inputs.to(device)\n",
    "            labels = labels.to(device)\n",
    "\n",
    "            optimizer.zero_grad()\n",
    "            output = model.forward(inputs)\n",
    "            loss = criterion(output, labels)\n",
    "            loss.backward()\n",
    "            optimizer.step()\n",
    "            running_loss += loss.item()\n",
    "\n",
    "            _, preds = torch.max(output.data, 1)\n",
    "            train_correct += (preds == labels).sum().item()\n",
    "            total_train_samples +=labels.size(0)\n",
    "\n",
    "\n",
    "        print(f'Epochs:{e+1}/{epochs}')    \n",
    "        print(f'Training Loss: {running_loss/len(trainloader):.2f}, Training Accuracy : {train_correct/total_train_samples:.2f}')\n",
    "        train_loss.append(running_loss/len(trainloader))\n",
    "\n",
    "        model.eval()\n",
    "        val_loss = 0\n",
    "        val_accuracy = 0\n",
    "        total_val_samples = 0\n",
    "        \n",
    "        with torch.no_grad():\n",
    "            for v in valid_loader:\n",
    "                inputs, labels = v\n",
    "                inputs, labels = inputs.to(device), labels.to(device)\n",
    "                output = model.forward(inputs)\n",
    "                loss = criterion(output, labels)\n",
    "                val_loss += loss.item()\n",
    "                _, preds = torch.max(output.data, 1)\n",
    "                val_accuracy += (preds == labels).sum().item()\n",
    "                total_val_samples += labels.size(0)\n",
    "\n",
    "        print(f'Validation Loss: {val_loss/len(valid_loader):.2f}, Validation Accuracy : {val_accuracy/total_val_samples:.2f}')\n",
    "        validation_loss.append(val_loss/len(valid_loader))\n",
    "        \n",
    "    plt.plot(train_loss, label='Training Loss')\n",
    "    plt.plot(validation_loss, label='Validation Loss')\n",
    "    plt.legend()\n",
    "    plt.show()\n",
    "\n",
    "train_model()"
   ]
  },
  {
   "cell_type": "markdown",
   "metadata": {},
   "source": [
    "Plot the training loss (and validation loss/accuracy, if recorded)."
   ]
  },
  {
   "cell_type": "code",
   "execution_count": 12,
   "metadata": {},
   "outputs": [],
   "source": [
    "# Plotted inside the train fucntion"
   ]
  },
  {
   "cell_type": "markdown",
   "metadata": {},
   "source": [
    "## Testing your model\n",
    "Using the previously created `DataLoader` for the test set, compute the percentage of correct predictions using the highest probability prediction. \n",
    "\n",
    "If your accuracy is over 90%, great work, but see if you can push a bit further! \n",
    "If your accuracy is under 90%, you'll need to make improvements.\n",
    "Go back and check your model architecture, loss function, and optimizer to make sure they're appropriate for an image classification task."
   ]
  },
  {
   "cell_type": "code",
   "execution_count": 15,
   "metadata": {},
   "outputs": [
    {
     "name": "stdout",
     "output_type": "stream",
     "text": [
      "Accuracy of model is 95.33%\n"
     ]
    }
   ],
   "source": [
    "def test(model=net, testloader=testloader):\n",
    "    with torch.no_grad():\n",
    "        device = 'cuda:0' if torch.cuda.is_available() else 'cpu'\n",
    "        model.to(device)\n",
    "\n",
    "        correct = 0\n",
    "        final = 0\n",
    "\n",
    "        for images, labels in testloader:\n",
    "            images, labels = images.to(device), labels.to(device)\n",
    "            output = model.forward(images)\n",
    "\n",
    "            batch, pred = torch.max(output.data, 1)\n",
    "            correct += (labels == pred).sum().item()\n",
    "            final += labels.size(0)\n",
    "\n",
    "        print(f'Accuracy of model is {(correct/final)*100:.2f}%')\n",
    "        \n",
    "test()"
   ]
  },
  {
   "cell_type": "markdown",
   "metadata": {},
   "source": [
    "## Improving your model\n",
    "\n",
    "Once your model is done training, try tweaking your hyperparameters and training again below to improve your accuracy on the test set!"
   ]
  },
  {
   "cell_type": "code",
   "execution_count": 16,
   "metadata": {
    "scrolled": false
   },
   "outputs": [
    {
     "name": "stdout",
     "output_type": "stream",
     "text": [
      "Epochs:1/16\n",
      "Training Loss: 1.03, Training Accuracy : 0.65\n",
      "Validation Loss: 0.33, Validation Accuracy : 0.90\n",
      "Epochs:2/16\n",
      "Training Loss: 0.39, Training Accuracy : 0.89\n",
      "Validation Loss: 0.23, Validation Accuracy : 0.93\n",
      "Epochs:3/16\n",
      "Training Loss: 0.29, Training Accuracy : 0.91\n",
      "Validation Loss: 0.18, Validation Accuracy : 0.95\n",
      "Epochs:4/16\n",
      "Training Loss: 0.24, Training Accuracy : 0.93\n",
      "Validation Loss: 0.16, Validation Accuracy : 0.95\n",
      "Epochs:5/16\n",
      "Training Loss: 0.21, Training Accuracy : 0.94\n",
      "Validation Loss: 0.15, Validation Accuracy : 0.96\n",
      "Epochs:6/16\n",
      "Training Loss: 0.19, Training Accuracy : 0.95\n",
      "Validation Loss: 0.13, Validation Accuracy : 0.96\n",
      "Epochs:7/16\n",
      "Training Loss: 0.17, Training Accuracy : 0.95\n",
      "Validation Loss: 0.12, Validation Accuracy : 0.96\n",
      "Epochs:8/16\n",
      "Training Loss: 0.16, Training Accuracy : 0.95\n",
      "Epochs:9/16\n",
      "Training Loss: 0.15, Training Accuracy : 0.96\n",
      "Validation Loss: 0.10, Validation Accuracy : 0.97\n",
      "Epochs:10/16\n",
      "Training Loss: 0.14, Training Accuracy : 0.96\n",
      "Validation Loss: 0.11, Validation Accuracy : 0.97\n",
      "Epochs:11/16\n",
      "Training Loss: 0.13, Training Accuracy : 0.96\n",
      "Validation Loss: 0.11, Validation Accuracy : 0.97\n",
      "Epochs:12/16\n",
      "Training Loss: 0.12, Training Accuracy : 0.96\n",
      "Validation Loss: 0.09, Validation Accuracy : 0.97\n",
      "Epochs:13/16\n",
      "Training Loss: 0.12, Training Accuracy : 0.97\n",
      "Validation Loss: 0.10, Validation Accuracy : 0.97\n",
      "Epochs:14/16\n",
      "Training Loss: 0.11, Training Accuracy : 0.97\n",
      "Validation Loss: 0.09, Validation Accuracy : 0.97\n",
      "Epochs:15/16\n",
      "Training Loss: 0.10, Training Accuracy : 0.97\n",
      "Validation Loss: 0.09, Validation Accuracy : 0.97\n",
      "Epochs:16/16\n",
      "Training Loss: 0.10, Training Accuracy : 0.97\n",
      "Validation Loss: 0.08, Validation Accuracy : 0.98\n"
     ]
    },
    {
     "data": {
      "image/png": "[encoded data removed]",
      "text/plain": [
       "<Figure size 432x288 with 1 Axes>"
      ]
     },
     "metadata": {
      "needs_background": "light"
     },
     "output_type": "display_data"
    },
    {
     "name": "stdout",
     "output_type": "stream",
     "text": [
      "Accuracy of model is 97.60%\n"
     ]
    }
   ],
   "source": [
    "#Hyperparameter tuning\n",
    "model1 = Net(dropout_rate=0.4)\n",
    "criterion1 = nn.CrossEntropyLoss()\n",
    "optimizer1 = optim.SGD(model1.parameters(), lr=0.002, momentum=0.9)\n",
    "\n",
    "train_model(model=model1, epochs=16, criterion=criterion1, optimizer=optimizer1)\n",
    "test(model1)"
   ]
  },
  {
   "cell_type": "markdown",
   "metadata": {},
   "source": [
    "## Saving your model\n",
    "Using `torch.save`, save your model for future loading."
   ]
  },
  {
   "cell_type": "code",
   "execution_count": 17,
   "metadata": {},
   "outputs": [],
   "source": [
    "torch.save(model1.state_dict(), 'model.pth')"
   ]
  },
  {
   "cell_type": "code",
   "execution_count": null,
   "metadata": {},
   "outputs": [],
   "source": []
  }
 ],
 "metadata": {
  "kernelspec": {
   "display_name": "Python 3",
   "language": "python",
   "name": "python3"
  },
  "language_info": {
   "codemirror_mode": {
    "name": "ipython",
    "version": 3
   },
   "file_extension": ".py",
   "mimetype": "text/x-python",
   "name": "python",
   "nbconvert_exporter": "python",
   "pygments_lexer": "ipython3",
   "version": "3.7.6"
  }
 },
 "nbformat": 4,
 "nbformat_minor": 4
}
