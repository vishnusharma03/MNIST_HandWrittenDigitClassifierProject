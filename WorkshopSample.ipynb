{
 "cells": [
  {
   "cell_type": "markdown",
   "id": "21b3a7cc-f9f3-437d-9105-cd776966ddc0",
   "metadata": {},
   "source": [
    "# Installation"
   ]
  },
  {
   "cell_type": "code",
   "execution_count": 3,
   "id": "49a91ed5-cef1-4362-86aa-8a924b2a0765",
   "metadata": {
    "scrolled": true
   },
   "outputs": [
    {
     "name": "stderr",
     "output_type": "stream",
     "text": [
      "DEPRECATION: celery 5.2.0 has a non-standard dependency specifier pytz>dev. pip 24.0 will enforce this behaviour change. A possible replacement is to upgrade to a newer version of celery or contact the author to suggest that they release a version with a conforming dependency specifiers. Discussion can be found at https://github.com/pypa/pip/issues/12063\n",
      "DEPRECATION: celery 5.2.0 has a non-standard dependency specifier pytz>dev. pip 24.0 will enforce this behaviour change. A possible replacement is to upgrade to a newer version of celery or contact the author to suggest that they release a version with a conforming dependency specifiers. Discussion can be found at https://github.com/pypa/pip/issues/12063\n"
     ]
    },
    {
     "name": "stdout",
     "output_type": "stream",
     "text": [
      "Requirement already satisfied: deeplake in c:\\users\\user\\appdata\\local\\programs\\python\\python311\\lib\\site-packages (3.7.1)\n",
      "Collecting deeplake\n",
      "  Downloading deeplake-3.8.9.tar.gz (580 kB)\n",
      "     ------------------------------------ 580.3/580.3 kB 493.2 kB/s eta 0:00:00\n",
      "  Installing build dependencies: started\n",
      "  Installing build dependencies: finished with status 'done'\n",
      "  Getting requirements to build wheel: started\n",
      "  Getting requirements to build wheel: finished with status 'done'\n",
      "  Preparing metadata (pyproject.toml): started\n",
      "  Preparing metadata (pyproject.toml): finished with status 'done'\n",
      "Requirement already satisfied: numpy in c:\\users\\user\\appdata\\local\\programs\\python\\python311\\lib\\site-packages (from deeplake) (1.23.5)\n",
      "Requirement already satisfied: pillow in c:\\users\\user\\appdata\\local\\programs\\python\\python311\\lib\\site-packages (from deeplake) (9.5.0)\n",
      "Requirement already satisfied: boto3 in c:\\users\\user\\appdata\\local\\programs\\python\\python311\\lib\\site-packages (from deeplake) (1.28.7)\n",
      "Requirement already satisfied: click in c:\\users\\user\\appdata\\local\\programs\\python\\python311\\lib\\site-packages (from deeplake) (8.1.3)\n",
      "Requirement already satisfied: pathos in c:\\users\\user\\appdata\\local\\programs\\python\\python311\\lib\\site-packages (from deeplake) (0.3.0)\n",
      "Requirement already satisfied: humbug>=0.3.1 in c:\\users\\user\\appdata\\local\\programs\\python\\python311\\lib\\site-packages (from deeplake) (0.3.2)\n",
      "Requirement already satisfied: tqdm in c:\\users\\user\\appdata\\local\\programs\\python\\python311\\lib\\site-packages (from deeplake) (4.65.0)\n",
      "Collecting lz4 (from deeplake)\n",
      "  Downloading lz4-4.3.2-cp311-cp311-win_amd64.whl (99 kB)\n",
      "     ---------------------------------------- 99.8/99.8 kB 1.4 MB/s eta 0:00:00\n",
      "Requirement already satisfied: pyjwt in c:\\users\\user\\appdata\\local\\programs\\python\\python311\\lib\\site-packages (from deeplake) (2.8.0)\n",
      "Requirement already satisfied: pydantic in c:\\users\\user\\appdata\\local\\programs\\python\\python311\\lib\\site-packages (from deeplake) (1.10.12)\n",
      "Requirement already satisfied: requests in c:\\users\\user\\appdata\\local\\programs\\python\\python311\\lib\\site-packages (from humbug>=0.3.1->deeplake) (2.28.1)\n",
      "Requirement already satisfied: botocore<1.32.0,>=1.31.7 in c:\\users\\user\\appdata\\local\\programs\\python\\python311\\lib\\site-packages (from boto3->deeplake) (1.31.7)\n",
      "Requirement already satisfied: jmespath<2.0.0,>=0.7.1 in c:\\users\\user\\appdata\\local\\programs\\python\\python311\\lib\\site-packages (from boto3->deeplake) (1.0.1)\n",
      "Requirement already satisfied: s3transfer<0.7.0,>=0.6.0 in c:\\users\\user\\appdata\\local\\programs\\python\\python311\\lib\\site-packages (from boto3->deeplake) (0.6.1)\n",
      "Requirement already satisfied: colorama in c:\\users\\user\\appdata\\local\\programs\\python\\python311\\lib\\site-packages (from click->deeplake) (0.4.6)\n",
      "Requirement already satisfied: ppft>=1.7.6.6 in c:\\users\\user\\appdata\\local\\programs\\python\\python311\\lib\\site-packages (from pathos->deeplake) (1.7.6.6)\n",
      "Requirement already satisfied: dill>=0.3.6 in c:\\users\\user\\appdata\\local\\programs\\python\\python311\\lib\\site-packages (from pathos->deeplake) (0.3.6)\n",
      "Requirement already satisfied: pox>=0.3.2 in c:\\users\\user\\appdata\\local\\programs\\python\\python311\\lib\\site-packages (from pathos->deeplake) (0.3.2)\n",
      "Requirement already satisfied: multiprocess>=0.70.14 in c:\\users\\user\\appdata\\local\\programs\\python\\python311\\lib\\site-packages (from pathos->deeplake) (0.70.14)\n",
      "Requirement already satisfied: typing-extensions>=4.2.0 in c:\\users\\user\\appdata\\local\\programs\\python\\python311\\lib\\site-packages (from pydantic->deeplake) (4.8.0)\n",
      "Requirement already satisfied: python-dateutil<3.0.0,>=2.1 in c:\\users\\user\\appdata\\local\\programs\\python\\python311\\lib\\site-packages (from botocore<1.32.0,>=1.31.7->boto3->deeplake) (2.8.2)\n",
      "Requirement already satisfied: urllib3<1.27,>=1.25.4 in c:\\users\\user\\appdata\\local\\programs\\python\\python311\\lib\\site-packages (from botocore<1.32.0,>=1.31.7->boto3->deeplake) (1.26.13)\n",
      "Requirement already satisfied: charset-normalizer<3,>=2 in c:\\users\\user\\appdata\\local\\programs\\python\\python311\\lib\\site-packages (from requests->humbug>=0.3.1->deeplake) (2.1.1)\n",
      "Requirement already satisfied: idna<4,>=2.5 in c:\\users\\user\\appdata\\local\\programs\\python\\python311\\lib\\site-packages (from requests->humbug>=0.3.1->deeplake) (2.10)\n",
      "Requirement already satisfied: certifi>=2017.4.17 in c:\\users\\user\\appdata\\local\\programs\\python\\python311\\lib\\site-packages (from requests->humbug>=0.3.1->deeplake) (2022.12.7)\n",
      "Requirement already satisfied: six>=1.5 in c:\\users\\user\\appdata\\local\\programs\\python\\python311\\lib\\site-packages (from python-dateutil<3.0.0,>=2.1->botocore<1.32.0,>=1.31.7->boto3->deeplake) (1.16.0)\n",
      "Building wheels for collected packages: deeplake\n",
      "  Building wheel for deeplake (pyproject.toml): started\n",
      "  Building wheel for deeplake (pyproject.toml): finished with status 'done'\n",
      "  Created wheel for deeplake: filename=deeplake-3.8.9-py3-none-any.whl size=699749 sha256=c71c80b29fae78576eda95bf8cecc8265027b468a7bc50b0283fdda30101f4c5\n",
      "  Stored in directory: c:\\users\\user\\appdata\\local\\pip\\cache\\wheels\\93\\f5\\10\\9ba3d459167ce0cbe4f8b4d4dcc96e1de28351ae1e2041d643\n",
      "Successfully built deeplake\n",
      "Installing collected packages: lz4, deeplake\n",
      "  Attempting uninstall: deeplake\n",
      "    Found existing installation: deeplake 3.7.1\n",
      "    Uninstalling deeplake-3.7.1:\n",
      "      Successfully uninstalled deeplake-3.7.1\n",
      "Successfully installed deeplake-3.8.9 lz4-4.3.2\n"
     ]
    },
    {
     "name": "stderr",
     "output_type": "stream",
     "text": [
      "DEPRECATION: celery 5.2.0 has a non-standard dependency specifier pytz>dev. pip 24.0 will enforce this behaviour change. A possible replacement is to upgrade to a newer version of celery or contact the author to suggest that they release a version with a conforming dependency specifiers. Discussion can be found at https://github.com/pypa/pip/issues/12063\n"
     ]
    }
   ],
   "source": [
    "!pip install -q yt-dlp\n",
    "!pip install -q git+https://github.com/openai/whisper.git\n",
    "!pip install -U deeplake"
   ]
  },
  {
   "cell_type": "markdown",
   "id": "0c93b503-e71a-42b7-8827-607aca9252f0",
   "metadata": {},
   "source": [
    "# Imports"
   ]
  },
  {
   "cell_type": "code",
   "execution_count": 7,
   "id": "9baaa146-af30-482d-a915-d4c6b7da0105",
   "metadata": {},
   "outputs": [],
   "source": [
    "import yt_dlp\n",
    "import whisper\n",
    "import textwrap\n",
    "from langchain import OpenAI, LLMChain\n",
    "from langchain.chains.mapreduce import MapReduceChain\n",
    "from langchain.prompts import PromptTemplate\n",
    "from langchain.chains.summarize import load_summarize_chain\n",
    "from langchain.text_splitter import RecursiveCharacterTextSplitter\n",
    "from langchain.docstore.document import Document\n",
    "from langchain.vectorstores import DeepLake\n",
    "from langchain.embeddings.openai import OpenAIEmbeddings\n",
    "from langchain.chains import RetrievalQA"
   ]
  },
  {
   "cell_type": "markdown",
   "id": "a678528e-c651-4fee-b0ec-602dcc5d6803",
   "metadata": {},
   "source": [
    "# Video Downloader"
   ]
  },
  {
   "cell_type": "code",
   "execution_count": 8,
   "id": "d58b1dd0-67af-498a-9439-c9b3235a7228",
   "metadata": {},
   "outputs": [],
   "source": [
    "# Video info Function\n",
    "def video_downloader(urls, job_id):\n",
    "    # for storing information of videos\n",
    "    video_info = []\n",
    "\n",
    "    for i, url in enumerate(urls):\n",
    "        file_name = f'./{job_id}_{i}.mp4'\n",
    "        ydl_opts = {\n",
    "            'outtmpl' : file_name,\n",
    "            'quite' : True,\n",
    "            'format' : \"bestvideo[ext=mp4]+bestaudio[ext=m4a]/best[ext=mp3]\"\n",
    "        }\n",
    "\n",
    "        with yt_dlp.YoutubeDL(ydl_opts) as ydl:\n",
    "            # The line below is downloading the video\n",
    "            result = ydl.extract_info(url, download=True)\n",
    "            author = result.get(\"uploader\",\"\")\n",
    "            title = result.get(\"title\",\"\")\n",
    "\n",
    "        video_info.append((file_name, title, author))\n",
    "    return video_info"
   ]
  },
  {
   "cell_type": "code",
   "execution_count": 10,
   "id": "c3ff0cd4-f080-4d4d-a420-0f0123372506",
   "metadata": {},
   "outputs": [
    {
     "name": "stdout",
     "output_type": "stream",
     "text": [
      "[youtube] Extracting URL: https://www.youtube.com/watch?v=0FX4jVAL1eg&pp=ygUJam9lIHJvZ2Fu\n",
      "[youtube] 0FX4jVAL1eg: Downloading webpage\n",
      "[youtube] 0FX4jVAL1eg: Downloading ios player API JSON\n",
      "[youtube] 0FX4jVAL1eg: Downloading android player API JSON\n",
      "[youtube] 0FX4jVAL1eg: Downloading m3u8 information\n",
      "[info] 0FX4jVAL1eg: Downloading 1 format(s): 616+140\n",
      "[hlsnative] Downloading m3u8 manifest\n",
      "[hlsnative] Total fragments: 71\n",
      "[download] Destination: A1_0.f616.mp4\n",
      "[download] 100% of  100.33MiB in 00:00:58 at 1.72MiB/s                    \n",
      "[download] Destination: A1_0.f140.m4a\n",
      "[download] 100% of    6.41MiB in 00:00:01 at 4.98MiB/s   \n",
      "[Merger] Merging formats into \"A1_0.mp4\"\n",
      "Deleting original file A1_0.f616.mp4 (pass -k to keep)\n",
      "Deleting original file A1_0.f140.m4a (pass -k to keep)\n"
     ]
    }
   ],
   "source": [
    "# Download\n",
    "url = [\"https://www.youtube.com/watch?v=0FX4jVAL1eg&pp=ygUJam9lIHJvZ2Fu\"]\n",
    "video_details = video_downloader(url, \"A1\")"
   ]
  },
  {
   "cell_type": "markdown",
   "id": "e7aeccab-d8a6-4862-80af-f0945143aad3",
   "metadata": {},
   "source": [
    "# Transcription"
   ]
  },
  {
   "cell_type": "code",
   "execution_count": 12,
   "id": "2a389786-b7bc-48a6-b2cb-9e4e41ba030f",
   "metadata": {},
   "outputs": [
    {
     "name": "stdout",
     "output_type": "stream",
     "text": [
      " The gel-rogan experience. The stuff in the sea very alienly on the back. Yeah. I agree. You know, they did some study recently where they showed that jellyfish, despite not having a brain, they seemed to be able to learn. Now they're not trying to figure out, well, how have they learned? I know how they learn. Vibes. Vibes, man. They feel the vibes. They feel the vibes. Yeah, because they don't have a brain to feel the vibes. What if we live in a vibrational universe where everything is frequency, it would make sense. They feel the vibes. They're not down there. They just go with what the flow is. They're very jelly-like. They just go with whatever the energy is doing already. That's why it seems like they know. You guys seem like you came up with this theory together and you discussed this? Well, I just thought of it right now and Sarah came on board with me and I feel like we're on to something. Yeah, we're on to something. Well, no, I think we live in a vibrational universe and things enter our experience based on the things that we think in the world that we create. And so when you think, if the fish are flowing this way, the jelly is going to go this way too. And it seems like they know what they're doing, but they're just kind of going with whatever is happening around them. Awesome. Some of them are poisonous as fuck, like the box jellyfish. Which means they know they need to be poisonous. Yeah. Which means they're aware that there's danger. So they're scenty in some way. Yeah, they have no brain, but they're aware. I know a lot of people like that. Yeah. I know a lot of jellyfish. Well, especially if you think about where box jellyfish live, they're australia, right? Australia has great white sharks everywhere. Australia has those little cute octopi that is octopus pie. I think it's octopi. Octopi that are the little blue-ringed ones that look like you can pick them up at the killio. They're like the most dangerous one in the world. It's not octopuses. That's a game's bomb movie. Octopuses. The blue-ringed octopus. Yeah, it's like very cute and small and they have videos of that one. That'll kill you. How come that guy has it on his head? It's like one of the most deadly octopus. Wow. It looks and people pick them up all the time because they're beautiful. I want that in a jacket. Yeah. What does it have a stinger? It bites, I think. If I remember correctly. It has a toxin or some sort. I think it bites. It's nickname bro. It says blue-ringed octopus. nickname bro. It only attacks humans when it feels in danger if you're trying to corner a blue-ringed octopus. That might be from a person in the attack. So there's two types of toxins for hunting the other for self-defense. It a blue-ringed octopus ejects tetrodoxin, a harmful toxin that could paralyze and kill a human adult in mere minutes. It's 1,200 times more toxic than cyanide. That's cyanide. It's crazy. That's wild. Holy shit. There's no known antidote. Nope. It's the same kind of toxin that puffer fish out. It can kill 26 full adults with one bite. Oh my god. It can kill 26 full adults in one bite. Yeah. That is so crazy. That is so insane. It is insane, right? And there's videos of people that pick it up. They think of viral because they don't know better. So they're playing with it in the ocean. Oh my god. And it's like, oh god. And thank god. I mean, I think that I think they've also had enough licks thing about how octopi are like really smart and they like have the average brain of like a five-year-old child or something. So maybe some of them are aware and don't want to kill people when they get picked up. Well, they figured out how to open up mason jars. Oh yeah. They can unlock doors. They can, I think they said that they can memorize shit. That's kind of cute. They can memorize shit and how it works. Well, they have this tank that was set up next to another tank. So one tank had octopus in it. The other tank across the room had fish in it. Fish started missing. Yeah. And so they set up a camera and they found out what was going on was the octopus was climbing out of his tank, walking across the floor, climbing up at the other tank, jacking a fish, eating it, and then going back into his tank. The comedian and me imagined it jacking off a fish and then eating it. But for some reason, when I was imagining it, the octopus was wearing sunglasses and the whole story. I mean, how insane is that? Did the thing figured out that it could get out and walk in a place where it can't breathe? Well, they can fit through anything that their eyes can fit through. That's great. No matter how big they are. Okay. Also. Don't quote me on that. But how would it know that it could get out and climb? I mean, what? You want to hear the answer? Yeah. The vibes. It just knows. The same way, the same way the everyone knows everything. Five. Five. Three times a day. You were like, this feels right? How is humans, the first two humans know to have sex? They were just like, this feels like we should do that. Right. Well, but it was way before humans, right? How did the first living organism that was multicellular figure out how to mate? A little, a little, a little innate thing, a little horny cell. Right. Little horny cells. So what is this octopus doing? Oh, big octopus versus small holes. They keep, they keep getting this. This is a porn, this is a porn, I'm bad at this. I'm tired. I'm sorry, guys. I'm tired. I'm tired. Is there a little pent-up energy in this room was happening? Big octopus, small hole is disgusting. So that little hole in the plexiglass, it's going to go through that little hole. Oh, yeah. And it could definitely fit, because the eyeballs are like a fist. It actually might, it did four other ones before I got to this video. So this is one of my stuck, yeah, I think it backs off. It realizes it's stuck. This is a fucking alien, I'm sorry. They are aliens. How is that not an alien? They really are aliens. They're just aliens that live under the ocean. Yeah. And do you know the myth of the cracking? Cracking was an enormous octopus that would take out ships. No. Yeah, it was always like one of those ancient myths of a sea beast. Yeah, they have paintings with like the octopus tentacles touching the ship and stuff. One day, one day they found tentacle imprints, the imprints of the suction cups that were massive, that would have indicated like an enormous octopus. Oh, yeah, they were definitely taking down ships. So the thing it was real. They think at one point in time, they really were massive octopus. They're smart enough to. What is that fossil, the fossilized version of the crackin? So they found these fossils of the suction cups on the bottom of the ocean floor. And they were like, what?\n"
     ]
    }
   ],
   "source": [
    "# Loading Whisper model\n",
    "model = whisper.load_model(\"base\")\n",
    "result = model.transcribe(\"A1_0.mp4\")\n",
    "print(result[\"text\"])"
   ]
  },
  {
   "cell_type": "code",
   "execution_count": 13,
   "id": "6186e9e2-2403-4ac7-ac12-fbd213c2a702",
   "metadata": {},
   "outputs": [],
   "source": [
    "# Writing Transcription\n",
    "with open(\"./DocumentOne.txt\", 'w') as f:\n",
    "    f.write(result['text'])"
   ]
  },
  {
   "cell_type": "code",
   "execution_count": 14,
   "id": "bd47e206-b468-475b-a8e6-fe735e0c0dad",
   "metadata": {},
   "outputs": [],
   "source": [
    "# Initializing the LLM\n",
    "llm = OpenAI(model_name='text-davinci-003', temperature=0)"
   ]
  },
  {
   "cell_type": "code",
   "execution_count": 15,
   "id": "b829d354-8665-4b12-92b8-7ed06251977b",
   "metadata": {},
   "outputs": [],
   "source": [
    "# Initializing the Text Splitter\n",
    "text_splitter = RecursiveCharacterTextSplitter(\n",
    "    chunk_size=1000, chunk_overlap=0, separators=[\" \", \",\", \"\\n\"]\n",
    ")"
   ]
  },
  {
   "cell_type": "code",
   "execution_count": 16,
   "id": "94399fee-627f-41a9-a658-6a0142c4dd79",
   "metadata": {},
   "outputs": [],
   "source": [
    "# Splitting the text\n",
    "with open('./DocumentOne.txt', 'r') as file:\n",
    "    text = file.read()\n",
    "\n",
    "texts = text_splitter.split_text(text)\n",
    "docs = [Document(page_content=t) for t in texts[:4]]"
   ]
  },
  {
   "cell_type": "code",
   "execution_count": 17,
   "id": "e80be296-2bf6-4c89-8577-52f4558e891c",
   "metadata": {},
   "outputs": [
    {
     "name": "stdout",
     "output_type": "stream",
     "text": [
      " This text discusses the intelligence of jellyfish and octopi, two creatures that have adapted to\n",
      "their environment by becoming poisonous or aware of danger. It mentions the box jellyfish and the\n",
      "blue-ringed octopus, which are both found in Australia, and the puffer fish, which contains a toxin\n",
      "that can kill 26 full adults with one bite. It also discusses how octopi are intelligent creatures,\n",
      "capable of memorizing and opening mason jars and unlocking doors.\n"
     ]
    }
   ],
   "source": [
    "# Initializing the Chain with different Chain types\n",
    "chain = load_summarize_chain(llm=llm, chain_type='map_reduce') # Use chain types \"refine\"\n",
    "\n",
    "summary = chain.run(docs)\n",
    "\n",
    "# Text Wrap\n",
    "wrap = textwrap.fill(summary, width=100)\n",
    "print(wrap)"
   ]
  },
  {
   "cell_type": "code",
   "execution_count": 18,
   "id": "71618a8b-f79b-489a-833b-e3579830b8ba",
   "metadata": {},
   "outputs": [
    {
     "name": "stdout",
     "output_type": "stream",
     "text": [
      "    - Jellyfish have been found to be able to learn despite not having a brain\n",
      "    - It is suggested that this is because they are able to feel the vibes of the universe\n",
      "    - Box jellyfish are particularly dangerous and have a toxin that is 1,200 times more toxic than cyanide\n",
      "    - Octopi are also very intelligent and have been found to be able to open mason jars, unlock doors, and memorize things\n"
     ]
    }
   ],
   "source": [
    "prompt_template = \"\"\"\n",
    "    Write a concise summary of the following:\n",
    "\n",
    "    \n",
    "    \"{text}\"\n",
    "\n",
    "\n",
    "    CONCISE SUMMARY IN BULLET POINTS\n",
    "\"\"\"\n",
    "\n",
    "Bullet_point_template = PromptTemplate(\n",
    "    template=prompt_template,\n",
    "    input_variables=[\"text\"]\n",
    ")\n",
    "\n",
    "returnn = load_summarize_chain(llm=llm, chain_type=\"stuff\", prompt=Bullet_point_template)\n",
    "\n",
    "summary1 = returnn.run(docs)\n",
    "wrap1 = textwrap.fill(summary1, width=1000, break_long_words=False, replace_whitespace=False)\n",
    "print(wrap1)"
   ]
  },
  {
   "cell_type": "markdown",
   "id": "9f4346cb-be0d-487a-a3a4-1ff7dd8c232b",
   "metadata": {},
   "source": [
    "# Adding Transcripts to DeepLake"
   ]
  },
  {
   "cell_type": "code",
   "execution_count": 19,
   "id": "34e7c744-3d01-4f26-a4cf-75957577bcf3",
   "metadata": {},
   "outputs": [
    {
     "name": "stdout",
     "output_type": "stream",
     "text": [
      "Successfully logged in to Activeloop.\n"
     ]
    }
   ],
   "source": [
    "# Login\n",
    "!activeloop login -u vishnusharma7 -p <password>"
   ]
  },
  {
   "cell_type": "code",
   "execution_count": 20,
   "id": "c52677cc-fa34-4332-930f-e41a899ff767",
   "metadata": {},
   "outputs": [
    {
     "name": "stdout",
     "output_type": "stream",
     "text": [
      "Your Deep Lake dataset has been successfully created!\n"
     ]
    },
    {
     "name": "stderr",
     "output_type": "stream",
     "text": [
      "-"
     ]
    },
    {
     "name": "stdout",
     "output_type": "stream",
     "text": [
      "This dataset can be visualized in Jupyter Notebook by ds.visualize() or at https://app.activeloop.ai/vishnusharma7/VideoSummarizer2\n"
     ]
    },
    {
     "name": "stderr",
     "output_type": "stream",
     "text": [
      " \r"
     ]
    },
    {
     "name": "stdout",
     "output_type": "stream",
     "text": [
      "hub://vishnusharma7/VideoSummarizer2 loaded successfully.\n"
     ]
    },
    {
     "name": "stderr",
     "output_type": "stream",
     "text": [
      "Evaluating ingest: 100%|██████████| 1/1 [02:42<00:00\n",
      " \r"
     ]
    },
    {
     "name": "stdout",
     "output_type": "stream",
     "text": [
      "Dataset(path='hub://vishnusharma7/VideoSummarizer2', tensors=['embedding', 'ids', 'metadata', 'text'])\n",
      "\n",
      "  tensor     htype     shape     dtype  compression\n",
      "  -------   -------   -------   -------  ------- \n",
      " embedding  generic  (4, 1536)  float32   None   \n",
      "    ids      text     (4, 1)      str     None   \n",
      " metadata    json     (4, 1)      str     None   \n",
      "   text      text     (4, 1)      str     None   \n"
     ]
    },
    {
     "data": {
      "text/plain": [
       "['f08677c3-918f-11ee-b60b-001e64f80f6a',\n",
       " 'f08677c4-918f-11ee-98a7-001e64f80f6a',\n",
       " 'f08677c5-918f-11ee-b082-001e64f80f6a',\n",
       " 'f08677c6-918f-11ee-b8f9-001e64f80f6a']"
      ]
     },
     "execution_count": 20,
     "metadata": {},
     "output_type": "execute_result"
    }
   ],
   "source": [
    "# Embedding & Upload\n",
    "embeddings = OpenAIEmbeddings(model='text-embedding-ada-002')\n",
    "activeloop_id = 'vishnusharma7'\n",
    "dataset = 'VideoSummarizer2'\n",
    "dataset_path = f\"hub://{activeloop_id}/{dataset}\"\n",
    "\n",
    "db = DeepLake(dataset_path=dataset_path, embedding_function=embeddings)\n",
    "db.add_documents(docs)"
   ]
  },
  {
   "cell_type": "markdown",
   "id": "a7d2e947-34f2-4c31-8f67-c3beffde78ce",
   "metadata": {},
   "source": [
    "# Retriever"
   ]
  },
  {
   "cell_type": "code",
   "execution_count": 21,
   "id": "f34f0ae1-86da-478e-8c6c-9db54c7bee3e",
   "metadata": {},
   "outputs": [],
   "source": [
    "# Retriever Defining\n",
    "retriver = db.as_retriever()\n",
    "retriver.search_kwargs['distance_metric'] = 'cos'\n",
    "retriver.search_kwargs['k'] = 4"
   ]
  },
  {
   "cell_type": "code",
   "execution_count": 26,
   "id": "6bd0f2dc-3577-4354-857d-f42513817a6f",
   "metadata": {},
   "outputs": [],
   "source": [
    "# Retriver Template\n",
    "template = \"\"\" Use the following pieces of transcripts from a database to answer the question in bullet point and summarized.\n",
    "And if the answer is not in the given transcript, then just say you don't know, Don't try to forge an answer outside of the\n",
    "provided retriever.\n",
    "\n",
    "{context}\n",
    "\n",
    "Question = {question}\n",
    "Answer in summarized bullet points:\n",
    "\"\"\"\n",
    "\n",
    "prompt_template = PromptTemplate(template=template, input_variables=['context', 'question'])"
   ]
  },
  {
   "cell_type": "code",
   "execution_count": 27,
   "id": "f600d21f-f986-4143-992d-ba57465df94f",
   "metadata": {},
   "outputs": [],
   "source": [
    "# Retriever Initialization\n",
    "chain_type_kwargs = {\"prompt\" : prompt_template}\n",
    "qa = RetrievalQA.from_chain_type(llm = llm,\n",
    "                               chain_type=\"stuff\",\n",
    "                               retriever = retriver,\n",
    "                               chain_type_kwargs=chain_type_kwargs)"
   ]
  },
  {
   "cell_type": "code",
   "execution_count": 28,
   "id": "3e3e2dd3-8575-47c5-ab50-01c7b8059a9c",
   "metadata": {},
   "outputs": [
    {
     "name": "stdout",
     "output_type": "stream",
     "text": [
      "- Thinking and creating the world\n",
      "- Being aware of danger\n",
      "- Memorizing things\n",
      "- Being able to open mason jars\n",
      "- Being able to unlock doors\n",
      "- Being able to figure out how things work\n"
     ]
    }
   ],
   "source": [
    "# Inference\n",
    "print(qa.run(\"What are the signs of top 1% humans?\")) # Why Jellyfish is considered intelligent?"
   ]
  },
  {
   "cell_type": "code",
   "execution_count": null,
   "id": "ca3f1b65-c571-43b9-a8bb-fe6b1d6e6133",
   "metadata": {},
   "outputs": [],
   "source": []
  }
 ],
 "metadata": {
  "kernelspec": {
   "display_name": "Python 3 (ipykernel)",
   "language": "python",
   "name": "python3"
  },
  "language_info": {
   "codemirror_mode": {
    "name": "ipython",
    "version": 3
   },
   "file_extension": ".py",
   "mimetype": "text/x-python",
   "name": "python",
   "nbconvert_exporter": "python",
   "pygments_lexer": "ipython3",
   "version": "3.11.3"
  }
 },
 "nbformat": 4,
 "nbformat_minor": 5
}
